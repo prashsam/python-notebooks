{
 "cells": [
  {
   "cell_type": "code",
   "execution_count": null,
   "metadata": {},
   "outputs": [],
   "source": [
    "import numpy as np\n",
    "import en_core_web_sm\n",
    "from gensim.models import Phrases\n",
    "import gensim\n",
    "import re\n",
    "from keras.preprocessing.text import Tokenizer\n",
    "from keras.preprocessing import sequence\n",
    "from keras.models import Sequential\n",
    "from keras.layers import Dense, Dropout, Activation, Flatten\n",
    "from keras.layers.embeddings import Embedding\n",
    "from keras.layers.recurrent import LSTM, GRU, SimpleRNN\n",
    "from gensim.models import Word2Vec\n",
    "from sklearn.model_selection import train_test_split"
   ]
  },
  {
   "cell_type": "code",
   "execution_count": null,
   "metadata": {
    "collapsed": true
   },
   "outputs": [],
   "source": [
    "newArray = np.load('c:\\\\Users\\\\psamp\\\\AnacondaProjects\\\\PdfData\\\\corpus.npy')"
   ]
  },
  {
   "cell_type": "code",
   "execution_count": null,
   "metadata": {
    "collapsed": true
   },
   "outputs": [],
   "source": [
    "newArray1 = np.load('c:\\\\Users\\\\psamp\\\\AnacondaProjects\\\\PdfData\\\\y_train.npy')"
   ]
  },
  {
   "cell_type": "code",
   "execution_count": null,
   "metadata": {
    "collapsed": true
   },
   "outputs": [],
   "source": [
    "#LabelArray = newArray1[20:]\n",
    "LabelArray = newArray1"
   ]
  },
  {
   "cell_type": "code",
   "execution_count": null,
   "metadata": {
    "collapsed": true
   },
   "outputs": [],
   "source": [
    "#convert numpy to list\n",
    "sampledoc = newArray.tolist()"
   ]
  },
  {
   "cell_type": "code",
   "execution_count": null,
   "metadata": {
    "collapsed": true
   },
   "outputs": [],
   "source": [
    "#remove new line\n",
    "doc = []\n",
    "for w in sampledoc :\n",
    "    doc.append(w.replace('\\n',' '))\n",
    "    "
   ]
  },
  {
   "cell_type": "code",
   "execution_count": null,
   "metadata": {
    "collapsed": true
   },
   "outputs": [],
   "source": [
    "newdoc = []\n",
    "#for w in doc[20:]:\n",
    "for w in doc:\n",
    "    newdoc.append(w[0:w.find('C E R T')])\n",
    " "
   ]
  },
  {
   "cell_type": "code",
   "execution_count": null,
   "metadata": {
    "collapsed": true
   },
   "outputs": [],
   "source": [
    "nlp = en_core_web_sm.load()"
   ]
  },
  {
   "cell_type": "code",
   "execution_count": null,
   "metadata": {
    "collapsed": true
   },
   "outputs": [],
   "source": [
    "my_stop_words = [u'thanks',u'Mr',u'mr',u'Mrs',u'mrs',u'Mr.',u'Mrs.',u'Ms',u'Ms.',u'ms',u'To',u'the',u'The',u'there',u'There',u' ',u'$',u'\\'s',u' Q ',u' Q. ',u' A ',u' A. '\n",
    "                ,u'q.',u'a.',u'docket_no.',u'docket_no',u'witness',u'cross',u'a',u'q',u'I',u'You',u'you',u'They',u'they',u'me',u'He',u'he',u'Her',u'her',u'him',u'She',u'she'\n",
    "                ,u'We',u'we',u'us',u'They',u'them']\n",
    "for stopword in my_stop_words:\n",
    "    lexeme = nlp.vocab[stopword]\n",
    "    lexeme.is_stop = True"
   ]
  },
  {
   "cell_type": "code",
   "execution_count": null,
   "metadata": {
    "collapsed": true
   },
   "outputs": [],
   "source": [
    "notes,details = [],[] \n",
    "for x in range(len(newdoc)):\n",
    "    newdoc_l = nlp(str(newdoc[x]))  \n",
    "    for w in newdoc_l:        \n",
    "        if not w.is_stop and not w.is_punct and not w.like_num and not w.is_space:\n",
    "            details.append(w.lemma_)\n",
    "    notes.append(details)\n",
    "    details = []"
   ]
  },
  {
   "cell_type": "code",
   "execution_count": null,
   "metadata": {},
   "outputs": [],
   "source": [
    "notes[40]"
   ]
  },
  {
   "cell_type": "code",
   "execution_count": null,
   "metadata": {
    "collapsed": true
   },
   "outputs": [],
   "source": [
    "bigram = Phrases(notes)"
   ]
  },
  {
   "cell_type": "code",
   "execution_count": null,
   "metadata": {},
   "outputs": [],
   "source": [
    "notes = [bigram[line] for line in notes]"
   ]
  },
  {
   "cell_type": "code",
   "execution_count": null,
   "metadata": {},
   "outputs": [],
   "source": [
    "len(notes)"
   ]
  },
  {
   "cell_type": "code",
   "execution_count": null,
   "metadata": {
    "collapsed": true
   },
   "outputs": [],
   "source": [
    "bigram = Phrases(notes)"
   ]
  },
  {
   "cell_type": "code",
   "execution_count": null,
   "metadata": {},
   "outputs": [],
   "source": [
    "notes = [bigram[line] for line in notes]"
   ]
  },
  {
   "cell_type": "code",
   "execution_count": null,
   "metadata": {},
   "outputs": [],
   "source": [
    "notes"
   ]
  },
  {
   "cell_type": "code",
   "execution_count": null,
   "metadata": {
    "collapsed": true
   },
   "outputs": [],
   "source": [
    "t= Tokenizer() "
   ]
  },
  {
   "cell_type": "code",
   "execution_count": null,
   "metadata": {
    "collapsed": true
   },
   "outputs": [],
   "source": [
    "#text preprocessing in keras\n",
    "finalnotes = []    \n",
    "for w in notes:\n",
    "    #combinedString = string.join(w,\" \")\n",
    "    finalnotes.append(' '.join(w))"
   ]
  },
  {
   "cell_type": "code",
   "execution_count": null,
   "metadata": {},
   "outputs": [],
   "source": [
    "len(finalnotes)"
   ]
  },
  {
   "cell_type": "code",
   "execution_count": null,
   "metadata": {
    "collapsed": true
   },
   "outputs": [],
   "source": [
    "t.fit_on_texts(finalnotes)"
   ]
  },
  {
   "cell_type": "code",
   "execution_count": null,
   "metadata": {
    "collapsed": true
   },
   "outputs": [],
   "source": [
    "sequences = t.texts_to_sequences(finalnotes)"
   ]
  },
  {
   "cell_type": "code",
   "execution_count": null,
   "metadata": {},
   "outputs": [],
   "source": [
    "sequences"
   ]
  },
  {
   "cell_type": "code",
   "execution_count": null,
   "metadata": {
    "collapsed": true
   },
   "outputs": [],
   "source": [
    "wordcount = []\n",
    "\n",
    "for w in finalnotes:\n",
    "    wordcount.append(len(re.findall(\"\\S+\",w)))"
   ]
  },
  {
   "cell_type": "code",
   "execution_count": null,
   "metadata": {},
   "outputs": [],
   "source": [
    "wordcount"
   ]
  },
  {
   "cell_type": "code",
   "execution_count": null,
   "metadata": {
    "collapsed": true
   },
   "outputs": [],
   "source": [
    "sequences = sequence.pad_sequences(sequences,maxlen= 20000)"
   ]
  },
  {
   "cell_type": "code",
   "execution_count": null,
   "metadata": {
    "collapsed": true
   },
   "outputs": [],
   "source": [
    "y_train = sequence.pad_sequences(LabelArray,maxlen=18)"
   ]
  },
  {
   "cell_type": "code",
   "execution_count": null,
   "metadata": {},
   "outputs": [],
   "source": [
    "y_train"
   ]
  },
  {
   "cell_type": "code",
   "execution_count": null,
   "metadata": {
    "collapsed": true
   },
   "outputs": [],
   "source": [
    "doc2vec = Word2Vec(finalnotes,size=50, window=7, sg=1 )"
   ]
  },
  {
   "cell_type": "code",
   "execution_count": null,
   "metadata": {},
   "outputs": [],
   "source": [
    "embedding_matrix = np.zeros((len(t.word_index) + 1,50))\n",
    "for word,i in t.word_index.items():\n",
    "    try : \n",
    "        embedding_vector = doc2vec[word]\n",
    "        embedding_matrix[i] = embedding_vector\n",
    "    except KeyError:\n",
    "        pass\n",
    "print(embedding_matrix.shape)    "
   ]
  },
  {
   "cell_type": "code",
   "execution_count": null,
   "metadata": {
    "collapsed": true
   },
   "outputs": [],
   "source": [
    " # input dim - total word in vocabulary\n",
    " # output dim - size of the vector typically 100 - 300    \n",
    " # input length - max length   \n",
    " model = Sequential()\n",
    " model.add(Embedding(input_dim=len(t.word_index)+ 1, \n",
    "                       output_dim=50 ,               \n",
    "                       weights=[embedding_matrix],\n",
    "                       input_length=20000,           \n",
    "                       mask_zero=True,\n",
    "                       trainable=False ))   \n",
    " model.add(LSTM(75))   \n",
    " model.add(Dropout(0.3)) \n",
    " model.add(Dense(18,activation='sigmoid'))   "
   ]
  },
  {
   "cell_type": "code",
   "execution_count": null,
   "metadata": {
    "collapsed": true
   },
   "outputs": [],
   "source": [
    "model = Sequential()\n",
    "model.add(Embedding(input_dim=len(t.word_index)+ 1,output_dim=50 ,                       \n",
    "                     input_length=30000,\n",
    "                     mask_zero=True,\n",
    "                     trainable=False ))   \n",
    "model.add(LSTM(50))   \n",
    "model.add(Dropout(0.3)) \n",
    "model.add(Dense(18,activation='sigmoid'))   "
   ]
  },
  {
   "cell_type": "code",
   "execution_count": null,
   "metadata": {
    "collapsed": true
   },
   "outputs": [],
   "source": [
    "model = Sequential()\n",
    "model.add(Embedding(input_dim=len(t.word_index)+ 1,\n",
    "                    output_dim=50 , \n",
    "                    weights=[embedding_matrix],\n",
    "                    input_length=30000,\n",
    "                    mask_zero=True,\n",
    "                     ))   \n",
    "model.add(SimpleRNN(100))   \n",
    "model.add(Dropout(0.1)) \n",
    "model.add(Dense(18,activation='sigmoid'))   "
   ]
  },
  {
   "cell_type": "code",
   "execution_count": null,
   "metadata": {
    "collapsed": true
   },
   "outputs": [],
   "source": [
    "model = Sequential()\n",
    "model.add(Embedding(input_dim=len(t.word_index)+ 1,\n",
    "                    output_dim=50 , \n",
    "                    input_length=20000,\n",
    "                    mask_zero=True,\n",
    "                     ))   \n",
    "model.add(SimpleRNN(100))   \n",
    "model.add(Dropout(0.1)) \n",
    "model.add(Dense(18,activation='sigmoid'))   "
   ]
  },
  {
   "cell_type": "code",
   "execution_count": null,
   "metadata": {
    "collapsed": true
   },
   "outputs": [],
   "source": [
    "model = Sequential()\n",
    "model.add(Dense(512, activation='relu', input_shape=(10000,)))\n",
    "model.add(Dropout(0.1))\n",
    "model.add(Dense(256, activation='relu'))\n",
    "model.add(Dropout(0.1))\n",
    "model.add(Dense(18, activation='sigmoid'))\n"
   ]
  },
  {
   "cell_type": "code",
   "execution_count": null,
   "metadata": {
    "collapsed": true
   },
   "outputs": [],
   "source": [
    "model.compile(loss='binary_crossentropy', optimizer='adam', metrics=['accuracy'])"
   ]
  },
  {
   "cell_type": "code",
   "execution_count": null,
   "metadata": {},
   "outputs": [],
   "source": [
    "model.fit(sequences, y_train, validation_split=0.20, epochs=50, batch_size=1)\n"
   ]
  },
  {
   "cell_type": "code",
   "execution_count": null,
   "metadata": {
    "collapsed": true
   },
   "outputs": [],
   "source": []
  }
 ],
 "metadata": {
  "kernelspec": {
   "display_name": "Python 3",
   "language": "python",
   "name": "python3"
  },
  "language_info": {
   "codemirror_mode": {
    "name": "ipython",
    "version": 3
   },
   "file_extension": ".py",
   "mimetype": "text/x-python",
   "name": "python",
   "nbconvert_exporter": "python",
   "pygments_lexer": "ipython3",
   "version": "3.6.5"
  }
 },
 "nbformat": 4,
 "nbformat_minor": 2
}
