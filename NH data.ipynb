{
 "cells": [
  {
   "cell_type": "code",
   "execution_count": 1,
   "metadata": {
    "ExecuteTime": {
     "end_time": "2019-07-18T19:22:13.053761Z",
     "start_time": "2019-07-18T19:22:13.041728Z"
    }
   },
   "outputs": [],
   "source": [
    "from pyspark.sql import SparkSession\n",
    "spark = SparkSession.builder.appName('abc').getOrCreate()"
   ]
  },
  {
   "cell_type": "code",
   "execution_count": 2,
   "metadata": {
    "ExecuteTime": {
     "end_time": "2019-07-18T19:22:29.514648Z",
     "start_time": "2019-07-18T19:22:19.161203Z"
    }
   },
   "outputs": [],
   "source": [
    "df = spark.read.csv(\"c:/users/psamp/desktop/UNH/NH_Cleaned.csv\", header=True , inferSchema=True )"
   ]
  },
  {
   "cell_type": "code",
   "execution_count": 3,
   "metadata": {
    "ExecuteTime": {
     "end_time": "2019-07-18T19:22:34.770876Z",
     "start_time": "2019-07-18T19:22:34.689160Z"
    }
   },
   "outputs": [
    {
     "data": {
      "text/plain": [
       "DataFrame[id: string, state: string, stop_date: string, stop_time: string, location_raw: string, county_name: string, county_fips: int, fine_grained_location: string, police_department: string, driver_gender: string, driver_age_raw: string, driver_age: int, driver_race_raw: string, driver_race: string, violation_raw: string, violation: string, search_conducted: string, search_type_raw: string, search_type: string, contraband_found: string, stop_outcome: string, is_arrested: string, lat: double, lon: double, out_of_state: boolean, aerial_enforcement: boolean]"
      ]
     },
     "metadata": {},
     "output_type": "display_data"
    }
   ],
   "source": [
    "display(df)"
   ]
  },
  {
   "cell_type": "code",
   "execution_count": 4,
   "metadata": {
    "ExecuteTime": {
     "end_time": "2019-07-18T19:23:07.556692Z",
     "start_time": "2019-07-18T19:23:07.522100Z"
    }
   },
   "outputs": [],
   "source": [
    "from pyspark.sql.types import *\n",
    "#df2 = df.select(df.stop_date.cast(\"datetime\")) \n",
    "#df2  = df.withColumn('stop_date',df['stop_date'].cast(DateType()))\n",
    "#df2  = df.withColumn('stop_date_new',df['stop_date'].cast(DateType()))"
   ]
  },
  {
   "cell_type": "code",
   "execution_count": 8,
   "metadata": {
    "ExecuteTime": {
     "end_time": "2019-07-18T19:24:21.640542Z",
     "start_time": "2019-07-18T19:24:21.611962Z"
    }
   },
   "outputs": [],
   "source": [
    "from datetime import datetime\n",
    "from pyspark.sql.functions import col, udf\n",
    "from pyspark.sql.types import DateType\n",
    "func =  udf (lambda x: datetime.strptime(x, '%m/%d/%Y'), DateType())\n",
    "df2  = df.withColumn('stop_date_new', func(col('stop_date')))"
   ]
  },
  {
   "cell_type": "code",
   "execution_count": 9,
   "metadata": {
    "ExecuteTime": {
     "end_time": "2019-07-18T19:24:27.696800Z",
     "start_time": "2019-07-18T19:24:25.955166Z"
    }
   },
   "outputs": [
    {
     "name": "stdout",
     "output_type": "stream",
     "text": [
      "+--------------+-----+---------+---------+------------+-------------------+-----------+---------------------+-----------------+-------------+--------------+----------+---------------+-----------+--------------------+---------+----------------+---------------+-----------+----------------+------------+-----------+-----------+------------+------------+------------------+-------------+\n",
      "|            id|state|stop_date|stop_time|location_raw|        county_name|county_fips|fine_grained_location|police_department|driver_gender|driver_age_raw|driver_age|driver_race_raw|driver_race|       violation_raw|violation|search_conducted|search_type_raw|search_type|contraband_found|stop_outcome|is_arrested|        lat|         lon|out_of_state|aerial_enforcement|stop_date_new|\n",
      "+--------------+-----+---------+---------+------------+-------------------+-----------+---------------------+-----------------+-------------+--------------+----------+---------------+-----------+--------------------+---------+----------------+---------------+-----------+----------------+------------+-----------+-----------+------------+------------+------------------+-------------+\n",
      "|NH-2014-000001|   NH| 1/1/2014|     0:03|HILLSBOROUGH|Hillsborough County|      33011| MERRIMACK F.E.E.T. S|             null|            F|          null|      null|           null|       null|Basic rule and ma...| Speeding|            null|           null|       null|            null|      Ticket|       null|42.82023833|-71.49589833|       false|             false|   2014-01-01|\n",
      "|NH-2014-000002|   NH| 1/1/2014|     0:04|HILLSBOROUGH|Hillsborough County|      33011| MANCHESTER I-293 ...|             null|            M|          null|      null|            WHT|      White|Basic rule and ma...| Speeding|            null|           null|       null|            null|     Warning|       null|42.95886333|-71.43619833|       false|             false|   2014-01-01|\n",
      "+--------------+-----+---------+---------+------------+-------------------+-----------+---------------------+-----------------+-------------+--------------+----------+---------------+-----------+--------------------+---------+----------------+---------------+-----------+----------------+------------+-----------+-----------+------------+------------+------------------+-------------+\n",
      "only showing top 2 rows\n",
      "\n"
     ]
    }
   ],
   "source": [
    "df2.show(2)"
   ]
  },
  {
   "cell_type": "code",
   "execution_count": 10,
   "metadata": {
    "ExecuteTime": {
     "end_time": "2019-07-18T19:24:59.891196Z",
     "start_time": "2019-07-18T19:24:59.604422Z"
    }
   },
   "outputs": [
    {
     "name": "stdout",
     "output_type": "stream",
     "text": [
      "+-----+\n",
      "|state|\n",
      "+-----+\n",
      "|   NH|\n",
      "|   NH|\n",
      "|   NH|\n",
      "|   NH|\n",
      "|   NH|\n",
      "|   NH|\n",
      "|   NH|\n",
      "|   NH|\n",
      "|   NH|\n",
      "|   NH|\n",
      "|   NH|\n",
      "|   NH|\n",
      "|   NH|\n",
      "|   NH|\n",
      "|   NH|\n",
      "|   NH|\n",
      "|   NH|\n",
      "|   NH|\n",
      "|   NH|\n",
      "|   NH|\n",
      "+-----+\n",
      "only showing top 20 rows\n",
      "\n"
     ]
    }
   ],
   "source": [
    "df2.select('state').show()"
   ]
  },
  {
   "cell_type": "code",
   "execution_count": 11,
   "metadata": {
    "ExecuteTime": {
     "end_time": "2019-07-18T19:26:13.260171Z",
     "start_time": "2019-07-18T19:26:13.254157Z"
    }
   },
   "outputs": [
    {
     "name": "stdout",
     "output_type": "stream",
     "text": [
      "root\n",
      " |-- id: string (nullable = true)\n",
      " |-- state: string (nullable = true)\n",
      " |-- stop_date: string (nullable = true)\n",
      " |-- stop_time: string (nullable = true)\n",
      " |-- location_raw: string (nullable = true)\n",
      " |-- county_name: string (nullable = true)\n",
      " |-- county_fips: integer (nullable = true)\n",
      " |-- fine_grained_location: string (nullable = true)\n",
      " |-- police_department: string (nullable = true)\n",
      " |-- driver_gender: string (nullable = true)\n",
      " |-- driver_age_raw: string (nullable = true)\n",
      " |-- driver_age: integer (nullable = true)\n",
      " |-- driver_race_raw: string (nullable = true)\n",
      " |-- driver_race: string (nullable = true)\n",
      " |-- violation_raw: string (nullable = true)\n",
      " |-- violation: string (nullable = true)\n",
      " |-- search_conducted: string (nullable = true)\n",
      " |-- search_type_raw: string (nullable = true)\n",
      " |-- search_type: string (nullable = true)\n",
      " |-- contraband_found: string (nullable = true)\n",
      " |-- stop_outcome: string (nullable = true)\n",
      " |-- is_arrested: string (nullable = true)\n",
      " |-- lat: double (nullable = true)\n",
      " |-- lon: double (nullable = true)\n",
      " |-- out_of_state: boolean (nullable = true)\n",
      " |-- aerial_enforcement: boolean (nullable = true)\n",
      " |-- stop_date_new: date (nullable = true)\n",
      "\n"
     ]
    }
   ],
   "source": [
    "df2.printSchema()"
   ]
  },
  {
   "cell_type": "code",
   "execution_count": 7,
   "metadata": {
    "ExecuteTime": {
     "end_time": "2019-05-28T18:03:14.741092Z",
     "start_time": "2019-05-28T18:03:13.414133Z"
    }
   },
   "outputs": [
    {
     "name": "stdout",
     "output_type": "stream",
     "text": [
      "+-----+\n",
      "|state|\n",
      "+-----+\n",
      "|   NH|\n",
      "+-----+\n",
      "\n"
     ]
    }
   ],
   "source": [
    "df.select('state').distinct().show()"
   ]
  },
  {
   "cell_type": "code",
   "execution_count": 8,
   "metadata": {
    "ExecuteTime": {
     "end_time": "2019-05-28T18:04:52.250955Z",
     "start_time": "2019-05-28T18:04:51.359460Z"
    }
   },
   "outputs": [
    {
     "name": "stdout",
     "output_type": "stream",
     "text": [
      "+-----+-------------------+\n",
      "|state|        county_name|\n",
      "+-----+-------------------+\n",
      "|   NH|     Belknap County|\n",
      "|   NH|   Strafford County|\n",
      "|   NH|  Rockingham County|\n",
      "|   NH|   Merrimack County|\n",
      "|   NH|     Carroll County|\n",
      "|   NH|        Coos County|\n",
      "|   NH|    Sullivan County|\n",
      "|   NH|    Cheshire County|\n",
      "|   NH|Hillsborough County|\n",
      "|   NH|     Grafton County|\n",
      "+-----+-------------------+\n",
      "\n"
     ]
    }
   ],
   "source": [
    "df.select('state','county_name').distinct().show()"
   ]
  },
  {
   "cell_type": "code",
   "execution_count": 4,
   "metadata": {
    "ExecuteTime": {
     "end_time": "2019-05-29T14:27:23.187415Z",
     "start_time": "2019-05-29T14:27:21.609707Z"
    }
   },
   "outputs": [
    {
     "name": "stdout",
     "output_type": "stream",
     "text": [
      "+-------------------+-----+\n",
      "|        county_name|count|\n",
      "+-------------------+-----+\n",
      "|Hillsborough County|22600|\n",
      "|        Coos County|12263|\n",
      "|   Strafford County|23174|\n",
      "|    Cheshire County|14087|\n",
      "|     Carroll County|21387|\n",
      "|    Sullivan County|15152|\n",
      "|  Rockingham County|48700|\n",
      "|   Merrimack County|56494|\n",
      "|     Belknap County|16467|\n",
      "|     Grafton County|29498|\n",
      "+-------------------+-----+\n",
      "\n"
     ]
    }
   ],
   "source": [
    "df.select('county_name').groupBy('county_name').count().show()"
   ]
  },
  {
   "cell_type": "code",
   "execution_count": 6,
   "metadata": {
    "ExecuteTime": {
     "end_time": "2019-05-29T19:42:26.083966Z",
     "start_time": "2019-05-29T19:42:25.011607Z"
    }
   },
   "outputs": [
    {
     "name": "stdout",
     "output_type": "stream",
     "text": [
      "+-------------------+-----+-----+\n",
      "|        county_name|state|count|\n",
      "+-------------------+-----+-----+\n",
      "|     Grafton County|   NH|29498|\n",
      "|        Coos County|   NH|12263|\n",
      "|   Strafford County|   NH|23174|\n",
      "|  Rockingham County|   NH|48700|\n",
      "|   Merrimack County|   NH|56494|\n",
      "|    Sullivan County|   NH|15152|\n",
      "|     Carroll County|   NH|21387|\n",
      "|     Belknap County|   NH|16467|\n",
      "|    Cheshire County|   NH|14087|\n",
      "|Hillsborough County|   NH|22600|\n",
      "+-------------------+-----+-----+\n",
      "\n"
     ]
    }
   ],
   "source": [
    "df.select('county_name','state').groupBy('county_name', 'state').count().show()"
   ]
  },
  {
   "cell_type": "code",
   "execution_count": 7,
   "metadata": {
    "ExecuteTime": {
     "end_time": "2019-05-29T20:04:17.866216Z",
     "start_time": "2019-05-29T20:04:16.942325Z"
    }
   },
   "outputs": [
    {
     "name": "stdout",
     "output_type": "stream",
     "text": [
      "+-------+---------------+\n",
      "|summary|    county_name|\n",
      "+-------+---------------+\n",
      "|  count|         259822|\n",
      "|   mean|           null|\n",
      "| stddev|           null|\n",
      "|    min| Belknap County|\n",
      "|    max|Sullivan County|\n",
      "+-------+---------------+\n",
      "\n"
     ]
    }
   ],
   "source": [
    "df.describe('county_name').show()"
   ]
  },
  {
   "cell_type": "code",
   "execution_count": 3,
   "metadata": {
    "ExecuteTime": {
     "end_time": "2019-05-31T20:23:49.794598Z",
     "start_time": "2019-05-31T20:23:49.785574Z"
    }
   },
   "outputs": [],
   "source": [
    "from pyspark.sql import functions"
   ]
  },
  {
   "cell_type": "code",
   "execution_count": 5,
   "metadata": {
    "ExecuteTime": {
     "end_time": "2019-05-31T20:24:18.245149Z",
     "start_time": "2019-05-31T20:24:18.241639Z"
    }
   },
   "outputs": [
    {
     "name": "stdout",
     "output_type": "stream",
     "text": [
      "Help on function lower in module pyspark.sql.functions:\n",
      "\n",
      "lower(col)\n",
      "    Converts a string column to lower case.\n",
      "    \n",
      "    .. versionadded:: 1.5\n",
      "\n"
     ]
    }
   ],
   "source": [
    "help(functions.lower)"
   ]
  },
  {
   "cell_type": "code",
   "execution_count": 6,
   "metadata": {
    "ExecuteTime": {
     "end_time": "2019-05-31T20:28:20.053420Z",
     "start_time": "2019-05-31T20:28:20.050919Z"
    }
   },
   "outputs": [],
   "source": [
    "from pyspark.sql.functions import date_add\n"
   ]
  },
  {
   "cell_type": "code",
   "execution_count": 7,
   "metadata": {
    "ExecuteTime": {
     "end_time": "2019-05-31T20:28:35.552092Z",
     "start_time": "2019-05-31T20:28:35.548562Z"
    }
   },
   "outputs": [
    {
     "name": "stdout",
     "output_type": "stream",
     "text": [
      "Help on function date_add in module pyspark.sql.functions:\n",
      "\n",
      "date_add(start, days)\n",
      "    Returns the date that is `days` days after `start`\n",
      "    \n",
      "    >>> df = spark.createDataFrame([('2015-04-08',)], ['dt'])\n",
      "    >>> df.select(date_add(df.dt, 1).alias('next_date')).collect()\n",
      "    [Row(next_date=datetime.date(2015, 4, 9))]\n",
      "    \n",
      "    .. versionadded:: 1.5\n",
      "\n"
     ]
    }
   ],
   "source": [
    "help(date_add)"
   ]
  },
  {
   "cell_type": "code",
   "execution_count": null,
   "metadata": {},
   "outputs": [],
   "source": []
  }
 ],
 "metadata": {
  "kernelspec": {
   "display_name": "Python 3",
   "language": "python",
   "name": "python3"
  },
  "language_info": {
   "codemirror_mode": {
    "name": "ipython",
    "version": 3
   },
   "file_extension": ".py",
   "mimetype": "text/x-python",
   "name": "python",
   "nbconvert_exporter": "python",
   "pygments_lexer": "ipython3",
   "version": "3.7.3"
  }
 },
 "nbformat": 4,
 "nbformat_minor": 2
}
